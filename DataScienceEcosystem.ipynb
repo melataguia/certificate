{
  "metadata": {
    "kernelspec": {
      "name": "python",
      "display_name": "Python (Pyodide)",
      "language": "python"
    },
    "language_info": {
      "codemirror_mode": {
        "name": "python",
        "version": 3
      },
      "file_extension": ".py",
      "mimetype": "text/x-python",
      "name": "python",
      "nbconvert_exporter": "python",
      "pygments_lexer": "ipython3",
      "version": "3.8"
    }
  },
  "nbformat_minor": 4,
  "nbformat": 4,
  "cells": [
    {
      "cell_type": "markdown",
      "source": "# Data Science Tools and Ecosystem\n",
      "metadata": {}
    },
    {
      "cell_type": "markdown",
      "source": "## Introduction\n\nIn this notebook, Data Science Tools and Ecosystem are summarized.\n",
      "metadata": {}
    },
    {
      "cell_type": "markdown",
      "source": "## Some of the popular languages that Data Scientists use are:\n\nThe main languages used in data science are:\n- Python\n- R\n- SQL\n- Julia\n- Scala\n",
      "metadata": {}
    },
    {
      "cell_type": "markdown",
      "source": "## Some of the commonly used libraries used by Data Scientists include:\n\nThe most commonly used libraries in data science are:\n- **Pandas**: For data manipulation.\n- **NumPy**: For numerical computing.\n- **Matplotlib**: For data visualization.\n- **Seaborn**: For advanced visualizations.\n- **Scikit-learn**: For machine learning.\n",
      "metadata": {}
    },
    {
      "cell_type": "markdown",
      "source": "## Data Science Tools\n\n| Tool               | Description |\n|--------------------|-------------|\n| Jupyter Notebook    | Interactive development environment for Python. |\n| GitHub             | Version control platform for collaborating on projects. |\n| Docker             | Tool for automating application infrastructure. |\n| TensorFlow         | Framework for machine learning and deep learning. |\n",
      "metadata": {}
    },
    {
      "cell_type": "markdown",
      "source": "## Below are a few examples of evaluating arithmetic expressions in Python\n\nArithmetic expressions in Python are simple to use:\n\n- Addition: `2 + 3`\n- Subtraction: `5 - 3`\n- Multiplication: `4 * 3`\n- Division: `10 / 2`\n",
      "metadata": {}
    },
    {
      "cell_type": "code",
      "source": "#  This a simple arithmetic expression to mutiply then add integers\n(3*4)+5\n",
      "metadata": {
        "trusted": true,
        "scrolled": true
      },
      "outputs": [
        {
          "execution_count": 6,
          "output_type": "execute_result",
          "data": {
            "text/plain": "17"
          },
          "metadata": {}
        }
      ],
      "execution_count": 6
    },
    {
      "cell_type": "code",
      "source": "#  This will convert 200 minutes to hours by diving by 60\nminutes = 200\nhours = minutes / 60\nhours\n",
      "metadata": {
        "trusted": true
      },
      "outputs": [
        {
          "execution_count": 7,
          "output_type": "execute_result",
          "data": {
            "text/plain": "3.3333333333333335"
          },
          "metadata": {}
        }
      ],
      "execution_count": 7
    },
    {
      "cell_type": "markdown",
      "source": "## Objectives\n\nThe main objectives of this notebook are to:\n- Learn to use data science tools.\n- Understand the programming languages and libraries used to manipulate and analyze data.\n- Develop skills in programming and using collaborative tools like GitHub.\n",
      "metadata": {}
    },
    {
      "cell_type": "markdown",
      "source": "## Author\n\nThis notebook was created by **BIDIAS URSS MELATAGUIA FOUOCHONG**.\n\n",
      "metadata": {}
    }
  ]
}